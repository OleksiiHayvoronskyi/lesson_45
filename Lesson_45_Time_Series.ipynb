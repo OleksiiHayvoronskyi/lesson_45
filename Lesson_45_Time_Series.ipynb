{
 "cells": [
  {
   "cell_type": "markdown",
   "source": [
    "**Завдання**\n",
    "#### Використовуючи модель *ARIMA* і датасет *Yearly sunspots data 1700-2008*:\n",
    "* **побудувати прогноз на 2009–2030 рр.**"
   ],
   "metadata": {
    "collapsed": false
   }
  },
  {
   "cell_type": "code",
   "execution_count": 1,
   "outputs": [
    {
     "data": {
      "text/plain": "       YEAR  SUNACTIVITY\n0    1700.0          5.0\n1    1701.0         11.0\n2    1702.0         16.0\n3    1703.0         23.0\n4    1704.0         36.0\n..      ...          ...\n304  2004.0         40.4\n305  2005.0         29.8\n306  2006.0         15.2\n307  2007.0          7.5\n308  2008.0          2.9\n\n[309 rows x 2 columns]",
      "text/html": "<div>\n<style scoped>\n    .dataframe tbody tr th:only-of-type {\n        vertical-align: middle;\n    }\n\n    .dataframe tbody tr th {\n        vertical-align: top;\n    }\n\n    .dataframe thead th {\n        text-align: right;\n    }\n</style>\n<table border=\"1\" class=\"dataframe\">\n  <thead>\n    <tr style=\"text-align: right;\">\n      <th></th>\n      <th>YEAR</th>\n      <th>SUNACTIVITY</th>\n    </tr>\n  </thead>\n  <tbody>\n    <tr>\n      <th>0</th>\n      <td>1700.0</td>\n      <td>5.0</td>\n    </tr>\n    <tr>\n      <th>1</th>\n      <td>1701.0</td>\n      <td>11.0</td>\n    </tr>\n    <tr>\n      <th>2</th>\n      <td>1702.0</td>\n      <td>16.0</td>\n    </tr>\n    <tr>\n      <th>3</th>\n      <td>1703.0</td>\n      <td>23.0</td>\n    </tr>\n    <tr>\n      <th>4</th>\n      <td>1704.0</td>\n      <td>36.0</td>\n    </tr>\n    <tr>\n      <th>...</th>\n      <td>...</td>\n      <td>...</td>\n    </tr>\n    <tr>\n      <th>304</th>\n      <td>2004.0</td>\n      <td>40.4</td>\n    </tr>\n    <tr>\n      <th>305</th>\n      <td>2005.0</td>\n      <td>29.8</td>\n    </tr>\n    <tr>\n      <th>306</th>\n      <td>2006.0</td>\n      <td>15.2</td>\n    </tr>\n    <tr>\n      <th>307</th>\n      <td>2007.0</td>\n      <td>7.5</td>\n    </tr>\n    <tr>\n      <th>308</th>\n      <td>2008.0</td>\n      <td>2.9</td>\n    </tr>\n  </tbody>\n</table>\n<p>309 rows × 2 columns</p>\n</div>"
     },
     "execution_count": 1,
     "metadata": {},
     "output_type": "execute_result"
    }
   ],
   "source": [
    "import pandas as pd\n",
    "import warnings\n",
    "import statsmodels.api as sm\n",
    "from statsmodels.tsa.arima.model import ARIMA\n",
    "\n",
    "\n",
    "# Load a main dataset.\n",
    "data_sun = sm.datasets.sunspots.load_pandas().data\n",
    "data_sun\n"
   ],
   "metadata": {
    "collapsed": false
   }
  },
  {
   "cell_type": "code",
   "execution_count": 2,
   "outputs": [
    {
     "name": "stdout",
     "output_type": "stream",
     "text": [
      "YEAR           float64\n",
      "SUNACTIVITY    float64\n",
      "dtype: object\n"
     ]
    }
   ],
   "source": [
    "print(data_sun.dtypes)\n"
   ],
   "metadata": {
    "collapsed": false
   }
  },
  {
   "cell_type": "code",
   "execution_count": 3,
   "outputs": [
    {
     "data": {
      "text/plain": "YEAR           0\nSUNACTIVITY    0\ndtype: int64"
     },
     "execution_count": 3,
     "metadata": {},
     "output_type": "execute_result"
    }
   ],
   "source": [
    "data_sun.isnull().sum()\n"
   ],
   "metadata": {
    "collapsed": false
   }
  },
  {
   "cell_type": "code",
   "execution_count": null,
   "outputs": [],
   "source": [],
   "metadata": {
    "collapsed": false
   }
  },
  {
   "cell_type": "code",
   "execution_count": null,
   "outputs": [],
   "source": [],
   "metadata": {
    "collapsed": false
   }
  },
  {
   "cell_type": "code",
   "execution_count": null,
   "outputs": [],
   "source": [],
   "metadata": {
    "collapsed": false
   }
  }
 ],
 "metadata": {
  "kernelspec": {
   "display_name": "Python 3",
   "language": "python",
   "name": "python3"
  },
  "language_info": {
   "codemirror_mode": {
    "name": "ipython",
    "version": 2
   },
   "file_extension": ".py",
   "mimetype": "text/x-python",
   "name": "python",
   "nbconvert_exporter": "python",
   "pygments_lexer": "ipython2",
   "version": "2.7.6"
  }
 },
 "nbformat": 4,
 "nbformat_minor": 0
}
